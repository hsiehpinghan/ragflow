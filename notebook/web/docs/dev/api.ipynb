{
 "cells": [
  {
   "cell_type": "markdown",
   "id": "90abc90e-e08c-4ef2-b54c-fe8142b3dc56",
   "metadata": {},
   "source": [
    "<a href=\"https://ragflow.io/docs/dev/api\">API reference</a>  "
   ]
  },
  {
   "cell_type": "code",
   "execution_count": 28,
   "id": "93859faf-c70b-4dd6-8da8-156fe02d1cdd",
   "metadata": {},
   "outputs": [],
   "source": [
    "import os\n",
    "import json\n",
    "import requests\n",
    "\n",
    "from io import BytesIO\n",
    "from PIL import Image\n",
    "from pprint import pprint as pp"
   ]
  },
  {
   "cell_type": "code",
   "execution_count": 23,
   "id": "3a409a7b-bfb2-4d04-8c15-759b2fe52eab",
   "metadata": {},
   "outputs": [],
   "source": [
    "BASE_URL = 'http://localhost/v1/'\n",
    "API_KEY = 'ragflow-ljMWJlNTEwNjUxYTExZWY4M2M0MDI0Mm'\n",
    "USER_ID = 'hsiehpinghan'"
   ]
  },
  {
   "cell_type": "markdown",
   "id": "c09908ea-f3fe-4157-bd76-7396792860bf",
   "metadata": {},
   "source": [
    "# Create conversation"
   ]
  },
  {
   "cell_type": "code",
   "execution_count": 37,
   "id": "0cc1b604-b3ce-43e8-996e-4fad160dd9df",
   "metadata": {},
   "outputs": [
    {
     "name": "stdout",
     "output_type": "stream",
     "text": [
      "{'data': {'dialog_id': 'a20b019a648e11ef9b680242ac150006',\n",
      "          'id': 'c4159ae8652411efb86a0242ac1a0006',\n",
      "          'message': [{'content': \"Hi! I'm your assistant, what can I do for \"\n",
      "                                  'you?',\n",
      "                       'role': 'assistant'}],\n",
      "          'user_id': 'hsiehpinghan'},\n",
      " 'retcode': 0,\n",
      " 'retmsg': 'success'}\n"
     ]
    }
   ],
   "source": [
    "url = os.path.join(BASE_URL, 'api/new_conversation')\n",
    "headers = {'Authorization': f'Bearer {API_KEY}'}\n",
    "payload = {'user_id': USER_ID}\n",
    "r = requests.get(url=url,\n",
    "                 headers=headers,\n",
    "                 params=payload)\n",
    "conversation_id = r.json()['data']['id']\n",
    "pp(r.json())"
   ]
  },
  {
   "cell_type": "markdown",
   "id": "15ebca01-e96a-4f4c-af5c-b77c8fbeb3cf",
   "metadata": {},
   "source": [
    "# Get conversation history"
   ]
  },
  {
   "cell_type": "code",
   "execution_count": 38,
   "id": "45f26e35-e868-4bd4-894b-ebd5930fdf2a",
   "metadata": {},
   "outputs": [
    {
     "name": "stdout",
     "output_type": "stream",
     "text": [
      "{'data': {'create_date': 'Wed, 28 Aug 2024 10:03:25 GMT',\n",
      "          'create_time': 1724839405475,\n",
      "          'dialog_id': 'a20b019a648e11ef9b680242ac150006',\n",
      "          'duration': 0.0,\n",
      "          'id': 'c4159ae8652411efb86a0242ac1a0006',\n",
      "          'message': [{'content': \"Hi! I'm your assistant, what can I do for \"\n",
      "                                  'you?',\n",
      "                       'role': 'assistant'}],\n",
      "          'reference': [],\n",
      "          'round': 0,\n",
      "          'source': None,\n",
      "          'thumb_up': 0,\n",
      "          'tokens': 0,\n",
      "          'update_date': 'Wed, 28 Aug 2024 10:03:25 GMT',\n",
      "          'update_time': 1724839405475,\n",
      "          'user_id': 'hsiehpinghan'},\n",
      " 'retcode': 0,\n",
      " 'retmsg': 'success'}\n"
     ]
    }
   ],
   "source": [
    "url = os.path.join(BASE_URL, f'api/conversation/{conversation_id}')\n",
    "headers = {'Authorization': f'Bearer {API_KEY}'}\n",
    "r = requests.get(url=url,\n",
    "                 headers=headers)\n",
    "pp(r.json())"
   ]
  },
  {
   "cell_type": "markdown",
   "id": "1152dbf5-0391-4cca-a95c-2644eed06d52",
   "metadata": {},
   "source": [
    "# Get answer"
   ]
  },
  {
   "cell_type": "code",
   "execution_count": 40,
   "id": "9687d781-f720-4744-8016-40629ef4e1d9",
   "metadata": {},
   "outputs": [
    {
     "name": "stdout",
     "output_type": "stream",
     "text": [
      "{'data': None,\n",
      " 'retcode': 100,\n",
      " 'retmsg': 'TypeError(\"\\'NoneType\\' object is not subscriptable\")'}\n"
     ]
    }
   ],
   "source": [
    "# not working !!!\n",
    "messages = [{'role': 'user',\n",
    "             'content': 'How are you doing!'}]\n",
    "quote = False\n",
    "stream = True\n",
    "doc_ids = None\n",
    "url = os.path.join(BASE_URL, 'api/completion')\n",
    "headers = {'Authorization': f'Bearer {API_KEY}'}\n",
    "data = {'conversation_id': conversation_id,\n",
    "        'messages': messages,\n",
    "        'quote': quote,\n",
    "        'stream': stream}\n",
    "r = requests.post(url=url,\n",
    "                  headers=headers,\n",
    "                  data=data)\n",
    "pp(r.json())"
   ]
  }
 ],
 "metadata": {
  "kernelspec": {
   "display_name": "Python 3 (ipykernel)",
   "language": "python",
   "name": "python3"
  },
  "language_info": {
   "codemirror_mode": {
    "name": "ipython",
    "version": 3
   },
   "file_extension": ".py",
   "mimetype": "text/x-python",
   "name": "python",
   "nbconvert_exporter": "python",
   "pygments_lexer": "ipython3",
   "version": "3.10.13"
  }
 },
 "nbformat": 4,
 "nbformat_minor": 5
}
