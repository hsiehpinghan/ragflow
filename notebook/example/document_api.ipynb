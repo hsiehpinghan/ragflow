{
 "cells": [
  {
   "cell_type": "code",
   "execution_count": 1,
   "id": "e703b0fc-3f6d-4ba3-9f15-ba586fab522c",
   "metadata": {},
   "outputs": [],
   "source": [
    "import os\n",
    "import json\n",
    "import requests\n",
    "\n",
    "from io import BytesIO\n",
    "from PIL import Image\n",
    "from pprint import pprint as pp"
   ]
  },
  {
   "cell_type": "code",
   "execution_count": 11,
   "id": "f0552540-0952-447a-90a1-18604a4aaec7",
   "metadata": {},
   "outputs": [],
   "source": [
    "BASE_URL = 'http://localhost/v1/'\n",
    "API_KEY = 'ragflow-ljMWJlNTEwNjUxYTExZWY4M2M0MDI0Mm'\n",
    "#USER_ID = 'hsiehpinghan'\n",
    "KNOWLEDGE_BASE_NAME = 'my_knowledge_base'\n",
    "FILE_PATH = '/home/hsiehpinghan/git/ragflow/README_zh.md'"
   ]
  },
  {
   "cell_type": "markdown",
   "id": "4f0c95e5-2a47-4b42-a146-9bbfd6fc664b",
   "metadata": {},
   "source": [
    "# Upload file\n",
    "\n",
    "需先建立my_knowledge_base"
   ]
  },
  {
   "cell_type": "code",
   "execution_count": null,
   "id": "c7ac5c0d-ca3f-4409-9f8a-ed2ecdce3b95",
   "metadata": {},
   "outputs": [],
   "source": [
    "url = os.path.join(BASE_URL, 'api/document/upload')\n",
    "headers = {'Authorization': f'Bearer {API_KEY}'}\n",
    "data = {'kb_name': KNOWLEDGE_BASE_NAME,\n",
    "        'parser_id': 'naive',\n",
    "        'run': '1'}\n",
    "files = {'file': ('README_zh.md',\n",
    "                  open(file=FILE_PATH,\n",
    "                       mode='rb'),\n",
    "                  'text/plain',\n",
    "                  {'Expires': '0'})}\n",
    "r = requests.post(url=url,\n",
    "                  headers=headers,\n",
    "                  data=data,\n",
    "                  files=files)\n",
    "pp(r.json())"
   ]
  },
  {
   "cell_type": "markdown",
   "id": "b999ac83-7219-4432-8232-00944d55d443",
   "metadata": {},
   "source": [
    "# Get document list"
   ]
  },
  {
   "cell_type": "code",
   "execution_count": 43,
   "id": "be8156df-eb99-4510-99e0-e2e403172356",
   "metadata": {},
   "outputs": [
    {
     "name": "stdout",
     "output_type": "stream",
     "text": [
      "{'data': None,\n",
      " 'retcode': 100,\n",
      " 'retmsg': 'AttributeError(\"\\'NoneType\\' object has no attribute \\'get\\'\")'}\n"
     ]
    }
   ],
   "source": [
    "url = os.path.join(BASE_URL, 'api/list_kb_docs')\n",
    "headers = {'Authorization': f'Bearer {API_KEY}'}\n",
    "data = {'kb_name': KNOWLEDGE_BASE_NAME,\n",
    "        'page': 1,\n",
    "        'page_size': 15,\n",
    "        'orderby': 'create_time',\n",
    "        'desc': True,\n",
    "        'keywords': None}\n",
    "r = requests.post(url=url,\n",
    "                  headers=headers,\n",
    "                  data=data)\n",
    "pp(r.json())"
   ]
  },
  {
   "cell_type": "code",
   "execution_count": null,
   "id": "2874dbda-d1f9-4c58-be63-7a6f8f415bec",
   "metadata": {},
   "outputs": [],
   "source": []
  },
  {
   "cell_type": "code",
   "execution_count": null,
   "id": "e81bccb1-60a4-4a97-bd60-bad83c658e38",
   "metadata": {},
   "outputs": [],
   "source": []
  },
  {
   "cell_type": "code",
   "execution_count": null,
   "id": "7a606815-a3d7-4b4b-804e-c8a59c1def97",
   "metadata": {},
   "outputs": [],
   "source": []
  }
 ],
 "metadata": {
  "kernelspec": {
   "display_name": "Python 3 (ipykernel)",
   "language": "python",
   "name": "python3"
  },
  "language_info": {
   "codemirror_mode": {
    "name": "ipython",
    "version": 3
   },
   "file_extension": ".py",
   "mimetype": "text/x-python",
   "name": "python",
   "nbconvert_exporter": "python",
   "pygments_lexer": "ipython3",
   "version": "3.10.13"
  }
 },
 "nbformat": 4,
 "nbformat_minor": 5
}
